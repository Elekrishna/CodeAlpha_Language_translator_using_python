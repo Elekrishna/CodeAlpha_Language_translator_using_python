{
 "cells": [
  {
   "cell_type": "markdown",
   "id": "5a470bff",
   "metadata": {},
   "source": [
    "# necessearry libaries"
   ]
  },
  {
   "cell_type": "code",
   "execution_count": 28,
   "id": "1d56e634",
   "metadata": {},
   "outputs": [],
   "source": [
    "from tkinter import *\n",
    "from tkinter import ttk\n",
    "from googletrans import Translator,LANGUAGES"
   ]
  },
  {
   "cell_type": "code",
   "execution_count": 29,
   "id": "b3f074d7",
   "metadata": {},
   "outputs": [],
   "source": [
    "root = Tk()\n",
    "root.geometry('1080x400')\n",
    "root.resizable(0,0)\n",
    "root.config(bg = 'ghost white')"
   ]
  },
  {
   "cell_type": "raw",
   "id": "2c37a6f0",
   "metadata": {},
   "source": [
    "# Tk() initialized tkinter which means window created,\n",
    "#geometry() set the width and height of the window,\n",
    "#resizable(0,0) set the fixed size of the window,\n",
    "#bg = ‘’ use to set the background color"
   ]
  },
  {
   "cell_type": "code",
   "execution_count": 30,
   "id": "87ae0501",
   "metadata": {},
   "outputs": [],
   "source": [
    "root.title(\"Project Code Alpha--Language Translator_Ele K\")\n",
    "Label(root,text = \"LANGUAGE TRANSLATOR\", font =\"arial 20 bold\", bg='white smoke').pack()\n",
    "Label(root,text = \"@Code Alpha | Krishanu\", font ='arial 15 bold', bg = 'white smoke',width ='25').pack(side = 'bottom')"
   ]
  },
  {
   "cell_type": "raw",
   "id": "9eefefb1",
   "metadata": {},
   "source": [
    "#title() used to set the title of the window\n",
    "#Label() widget use to display one or more than one line of text that users aren’t able to modify.\n",
    "#root is the name which we refer to our window\n",
    "#text which we display on the label\n",
    "#font in which the text is written\n",
    "#pack organized widget in block"
   ]
  },
  {
   "cell_type": "markdown",
   "id": "0158477f",
   "metadata": {},
   "source": [
    "# Create an Input-output text widget"
   ]
  },
  {
   "cell_type": "code",
   "execution_count": 31,
   "id": "ea4e7f98",
   "metadata": {},
   "outputs": [],
   "source": [
    "Label(root,text =\"Enter Text\", font = 'arial 13 bold', bg ='white smoke').place(x=200,y=50)\n",
    "Input_text = Text(root,font = 'arial 15', height = 11, wrap = WORD, padx=5, pady=5, width = 60)\n",
    "Input_text.place(x=30,y = 100)\n",
    "Label(root,text =\"Output\", font = 'arial 13 bold', bg ='white smoke').place(x=780,y=60)\n",
    "Output_text = Text(root,font = 'arial 15', height = 11, wrap = WORD, padx=5, pady= 5, width =60)\n",
    "Output_text.place(x = 600 , y = 100)"
   ]
  },
  {
   "cell_type": "raw",
   "id": "aa86c8e1",
   "metadata": {},
   "source": [
    "#Text() widget is used for multiple text lines.\n",
    "#wrap = WORD will stop the line after the last word that will fit.\n",
    "#padx puts an extra bit of space to the left and right of the widget.\n",
    "#pady adds an extra bit of space to the top and bottom."
   ]
  },
  {
   "cell_type": "markdown",
   "id": "f3573962",
   "metadata": {},
   "source": [
    "# Define Combobox "
   ]
  },
  {
   "cell_type": "code",
   "execution_count": 32,
   "id": "527e37be",
   "metadata": {},
   "outputs": [],
   "source": [
    "language = list(LANGUAGES.values())\n",
    "src_lang = ttk.Combobox(root, values= language, width =22)\n",
    "src_lang.place(x=20,y=60)\n",
    "src_lang.set('choose input language')\n",
    "dest_lang = ttk.Combobox(root, values= language, width =22)\n",
    "dest_lang.place(x=890,y=60)\n",
    "dest_lang.set('choose output language')"
   ]
  },
  {
   "cell_type": "raw",
   "id": "3c4c8d43",
   "metadata": {},
   "source": [
    "#language gets all the values from the ‘LANGUAGES’ dictionary in the form of a list.\n",
    "#ttk.Combobox() widget is a class of ttk modules. It is a drop-down list, which can hold multi-value and show one item at a #time. Combobox is useful to select one option from many option."
   ]
  },
  {
   "cell_type": "markdown",
   "id": "0d5c90c2",
   "metadata": {},
   "source": [
    "# Define Function"
   ]
  },
  {
   "cell_type": "code",
   "execution_count": 33,
   "id": "6607c6ef",
   "metadata": {},
   "outputs": [],
   "source": [
    "def Translate():\n",
    "    translator = Translator()\n",
    "    translated=translator.translate(text= Input_text.get(1.0, END) , src = src_lang.get(), dest = dest_lang.get())\n",
    "    Output_text.delete(1.0, END)\n",
    "    Output_text.insert(END, translated.text)"
   ]
  },
  {
   "cell_type": "raw",
   "id": "db4b1785",
   "metadata": {},
   "source": [
    "#src gets the language selected as input text language\n",
    "#dest gets the language select to translate\n",
    "#text gets the input text entered by the user.”1.0″ means that the input should be read from zero characters to line one\n",
    "#The END part means to read the text until the end is reached\n",
    "#translator = Translator() used to create a Translator class object\n",
    "#Output_text.delete(1.0, END) delete all the text from line one to end\n",
    "#Output_text.insert (END, translated.text) will insert the translated text in Output_text"
   ]
  },
  {
   "cell_type": "markdown",
   "id": "3ae4edeb",
   "metadata": {},
   "source": [
    "# Create a translate button"
   ]
  },
  {
   "cell_type": "code",
   "execution_count": null,
   "id": "b6e870c6",
   "metadata": {
    "scrolled": false
   },
   "outputs": [],
   "source": []
  },
  {
   "cell_type": "raw",
   "id": "b1b414dc",
   "metadata": {},
   "source": [
    "#Button() widget used to display button on our window\n",
    "#command is called when we click the button\n",
    "#activebackground sets the background color to use when the button is active\n",
    "#root.mainloop() is a method that executes when we want to run our program."
   ]
  },
  {
   "cell_type": "code",
   "execution_count": 34,
   "id": "a5a903db",
   "metadata": {},
   "outputs": [],
   "source": [
    "trans_btn = Button(root, text = 'Translate', font = 'Georgia 12 bold', pady = 5, command = Translate, bg = 'royal blue', activebackground = 'sky blue')\n",
    "trans_btn.place(x = 490, y = 300)"
   ]
  },
  {
   "cell_type": "code",
   "execution_count": null,
   "id": "8119c051",
   "metadata": {},
   "outputs": [],
   "source": [
    "root.mainloop()"
   ]
  },
  {
   "cell_type": "code",
   "execution_count": null,
   "id": "079f73f9",
   "metadata": {},
   "outputs": [],
   "source": [
    "trans_btn = Button (root, text = 'Translate',font = 'arial 12 bold',pady = 5,command = Translate , bg = 'blue', activebackground = 'sky blue')\n",
    "trans_btn.place(x = 490, y= 180 )"
   ]
  },
  {
   "cell_type": "code",
   "execution_count": null,
   "id": "899a1fc8",
   "metadata": {},
   "outputs": [],
   "source": []
  }
 ],
 "metadata": {
  "kernelspec": {
   "display_name": "Python 3 (ipykernel)",
   "language": "python",
   "name": "python3"
  },
  "language_info": {
   "codemirror_mode": {
    "name": "ipython",
    "version": 3
   },
   "file_extension": ".py",
   "mimetype": "text/x-python",
   "name": "python",
   "nbconvert_exporter": "python",
   "pygments_lexer": "ipython3",
   "version": "3.10.9"
  }
 },
 "nbformat": 4,
 "nbformat_minor": 5
}
